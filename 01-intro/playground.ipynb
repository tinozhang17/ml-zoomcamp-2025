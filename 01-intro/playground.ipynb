{
 "cells": [
  {
   "cell_type": "code",
   "execution_count": 8,
   "id": "a0201656-c71b-425f-8015-ef8060f2cfb6",
   "metadata": {},
   "outputs": [],
   "source": [
    "import numpy as np"
   ]
  },
  {
   "cell_type": "code",
   "execution_count": 9,
   "id": "96667320-e688-4fa8-a2fa-c150c683b620",
   "metadata": {},
   "outputs": [
    {
     "data": {
      "text/plain": [
       "<module 'numpy' from '/home/codespace/.local/lib/python3.12/site-packages/numpy/__init__.py'>"
      ]
     },
     "execution_count": 9,
     "metadata": {},
     "output_type": "execute_result"
    }
   ],
   "source": [
    "np"
   ]
  },
  {
   "cell_type": "code",
   "execution_count": 10,
   "id": "c976ea65-e307-49cc-9fd6-49789ae0f9a2",
   "metadata": {},
   "outputs": [],
   "source": [
    "l = np.random.rand(4,5)"
   ]
  },
  {
   "cell_type": "code",
   "execution_count": 11,
   "id": "41c50f54-affe-4d43-aa0c-600c86804d8f",
   "metadata": {},
   "outputs": [
    {
     "data": {
      "text/plain": [
       "array([[0.02705504, 0.53077961, 0.72832677, 0.47703485, 0.61214694],\n",
       "       [0.81821648, 0.56245221, 0.13930821, 0.57661019, 0.56167481],\n",
       "       [0.88484383, 0.17768668, 0.94416341, 0.24446864, 0.6302933 ],\n",
       "       [0.43001669, 0.31267364, 0.22347476, 0.50082535, 0.47193893]])"
      ]
     },
     "execution_count": 11,
     "metadata": {},
     "output_type": "execute_result"
    }
   ],
   "source": [
    "l"
   ]
  },
  {
   "cell_type": "code",
   "execution_count": 12,
   "id": "c538fcdf-6582-456c-8200-e7bf4a163b92",
   "metadata": {},
   "outputs": [
    {
     "data": {
      "text/plain": [
       "(4, 5)"
      ]
     },
     "execution_count": 12,
     "metadata": {},
     "output_type": "execute_result"
    }
   ],
   "source": [
    "l.shape"
   ]
  },
  {
   "cell_type": "code",
   "execution_count": 13,
   "id": "96e87b39-48c6-43d0-b73c-68f4c884253a",
   "metadata": {},
   "outputs": [],
   "source": [
    "n = np.random.rand(10)"
   ]
  },
  {
   "cell_type": "code",
   "execution_count": 14,
   "id": "3e5b8115-5508-4585-b637-98813531852c",
   "metadata": {},
   "outputs": [],
   "source": [
    "m = np.random.rand(10)"
   ]
  },
  {
   "cell_type": "code",
   "execution_count": 15,
   "id": "c0ebe49f-e319-4805-9e14-c13aa0b2a68b",
   "metadata": {},
   "outputs": [
    {
     "data": {
      "text/plain": [
       "np.float64(1.578758186661746)"
      ]
     },
     "execution_count": 15,
     "metadata": {},
     "output_type": "execute_result"
    }
   ],
   "source": [
    "np.dot(n,m)"
   ]
  },
  {
   "cell_type": "code",
   "execution_count": 16,
   "id": "0039494a-ddb0-4166-b188-37f2dbfb0d3e",
   "metadata": {},
   "outputs": [
    {
     "data": {
      "text/plain": [
       "(10,)"
      ]
     },
     "execution_count": 16,
     "metadata": {},
     "output_type": "execute_result"
    }
   ],
   "source": [
    "n.shape"
   ]
  },
  {
   "cell_type": "code",
   "execution_count": 17,
   "id": "916aa955-af12-4ee5-a053-0da466792ae1",
   "metadata": {},
   "outputs": [],
   "source": [
    "n = np.random.rand(5,2)"
   ]
  },
  {
   "cell_type": "code",
   "execution_count": 18,
   "id": "ee25f8c4-02cc-434b-8bc7-6c6b06e2193d",
   "metadata": {},
   "outputs": [
    {
     "data": {
      "text/plain": [
       "array([[0.02705504, 0.53077961, 0.72832677, 0.47703485, 0.61214694],\n",
       "       [0.81821648, 0.56245221, 0.13930821, 0.57661019, 0.56167481],\n",
       "       [0.88484383, 0.17768668, 0.94416341, 0.24446864, 0.6302933 ],\n",
       "       [0.43001669, 0.31267364, 0.22347476, 0.50082535, 0.47193893]])"
      ]
     },
     "execution_count": 18,
     "metadata": {},
     "output_type": "execute_result"
    }
   ],
   "source": [
    "l"
   ]
  },
  {
   "cell_type": "code",
   "execution_count": 19,
   "id": "215374df-fbd4-45b5-8111-4b8cab5a2de6",
   "metadata": {},
   "outputs": [
    {
     "data": {
      "text/plain": [
       "((4, 5), (5, 2))"
      ]
     },
     "execution_count": 19,
     "metadata": {},
     "output_type": "execute_result"
    }
   ],
   "source": [
    "(l.shape, n.shape)"
   ]
  },
  {
   "cell_type": "code",
   "execution_count": 20,
   "id": "dccad655-22f8-430b-9ac0-5c3854e4d154",
   "metadata": {},
   "outputs": [],
   "source": [
    "def m_m_multiply (u, v):\n",
    "    assert u.shape[1] == v.shape[0]\n",
    "\n",
    "    df = np.zeros((u.shape[0],v.shape[1]))\n",
    "\n",
    "    for i in range(u.shape[0]):\n",
    "        for j in range(v.shape[1]):\n",
    "            df[i][j] = np.dot(u[i],v[:,j])\n",
    "\n",
    "    return df"
   ]
  },
  {
   "cell_type": "code",
   "execution_count": 21,
   "id": "0e0f7f90-7846-4f27-abbe-dfbaba642ed6",
   "metadata": {},
   "outputs": [],
   "source": [
    "k = m_m_multiply(l,n)"
   ]
  },
  {
   "cell_type": "code",
   "execution_count": 22,
   "id": "e16621a6-5363-4574-b246-5ea936feefa0",
   "metadata": {},
   "outputs": [
    {
     "data": {
      "text/plain": [
       "array([[1.26308374, 1.06129423],\n",
       "       [1.00775284, 0.62453389],\n",
       "       [1.20870292, 1.11286192],\n",
       "       [0.82357414, 0.58176444]])"
      ]
     },
     "execution_count": 22,
     "metadata": {},
     "output_type": "execute_result"
    }
   ],
   "source": [
    "k"
   ]
  },
  {
   "cell_type": "code",
   "execution_count": 23,
   "id": "a48c1706-585a-4393-aa69-0e66fc7d039c",
   "metadata": {},
   "outputs": [
    {
     "data": {
      "text/plain": [
       "array([[1.26308374, 1.06129423],\n",
       "       [1.00775284, 0.62453389],\n",
       "       [1.20870292, 1.11286192],\n",
       "       [0.82357414, 0.58176444]])"
      ]
     },
     "execution_count": 23,
     "metadata": {},
     "output_type": "execute_result"
    }
   ],
   "source": [
    "l.dot(n)"
   ]
  },
  {
   "cell_type": "code",
   "execution_count": 24,
   "id": "c6b7e1bc-f01b-4d63-9098-076d302dc04e",
   "metadata": {},
   "outputs": [],
   "source": [
    "m = np.random.randint(0, 10, (5,5))"
   ]
  },
  {
   "cell_type": "code",
   "execution_count": 25,
   "id": "538ff4cb-f03a-407f-8fc1-a5bee81c452c",
   "metadata": {},
   "outputs": [
    {
     "data": {
      "text/plain": [
       "array([[3, 7, 3, 1, 8],\n",
       "       [6, 0, 2, 9, 2],\n",
       "       [1, 9, 1, 9, 2],\n",
       "       [9, 2, 2, 6, 2],\n",
       "       [7, 1, 9, 6, 9]])"
      ]
     },
     "execution_count": 25,
     "metadata": {},
     "output_type": "execute_result"
    }
   ],
   "source": [
    "m"
   ]
  },
  {
   "cell_type": "code",
   "execution_count": 26,
   "id": "127d2f41-2a5c-40c4-9831-07fe02052d98",
   "metadata": {},
   "outputs": [],
   "source": [
    "m_inv = np.linalg.inv(m)"
   ]
  },
  {
   "cell_type": "code",
   "execution_count": 27,
   "id": "89d3cf3c-9a97-4de0-a116-d6a8b53b7857",
   "metadata": {},
   "outputs": [
    {
     "data": {
      "text/plain": [
       "array([[ 1.00000000e+00,  1.42247325e-16,  5.89805982e-17,\n",
       "         2.08166817e-17,  8.67361738e-17],\n",
       "       [-5.89805982e-17,  1.00000000e+00,  5.89805982e-17,\n",
       "        -3.67761377e-16,  2.25514052e-16],\n",
       "       [ 1.38777878e-16, -5.55111512e-16,  1.00000000e+00,\n",
       "        -3.88578059e-16, -1.38777878e-16],\n",
       "       [ 1.14491749e-16,  2.42861287e-17,  2.42861287e-17,\n",
       "         1.00000000e+00, -8.67361738e-17],\n",
       "       [-2.08166817e-16,  4.16333634e-17, -1.38777878e-17,\n",
       "         7.49400542e-16,  1.00000000e+00]])"
      ]
     },
     "execution_count": 27,
     "metadata": {},
     "output_type": "execute_result"
    }
   ],
   "source": [
    "m_inv.dot(m)"
   ]
  },
  {
   "cell_type": "code",
   "execution_count": null,
   "id": "fdc3efb0-00f8-44f1-b52f-8d44c265d319",
   "metadata": {},
   "outputs": [],
   "source": []
  }
 ],
 "metadata": {
  "kernelspec": {
   "display_name": "Python 3 (ipykernel)",
   "language": "python",
   "name": "python3"
  },
  "language_info": {
   "codemirror_mode": {
    "name": "ipython",
    "version": 3
   },
   "file_extension": ".py",
   "mimetype": "text/x-python",
   "name": "python",
   "nbconvert_exporter": "python",
   "pygments_lexer": "ipython3",
   "version": "3.12.1"
  }
 },
 "nbformat": 4,
 "nbformat_minor": 5
}
